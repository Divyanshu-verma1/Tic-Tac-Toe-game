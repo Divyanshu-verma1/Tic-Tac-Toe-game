{
 "cells": [
  {
   "cell_type": "code",
   "execution_count": 1,
   "id": "30ff6702",
   "metadata": {},
   "outputs": [],
   "source": [
    "from IPython.display import clear_output\n",
    "def display_board(board):\n",
    "    print(board[1]+'|'+board[2]+'|'+board[3])\n",
    "    print(board[4]+'|'+board[5]+'|'+board[6])\n",
    "    print(board[7]+'|'+board[8]+'|'+board[9])"
   ]
  },
  {
   "cell_type": "code",
   "execution_count": 3,
   "id": "06852bb0",
   "metadata": {},
   "outputs": [],
   "source": [
    "def player_input():\n",
    "    marker=' '\n",
    "    while marker!='X' and marker!='O':\n",
    "        marker=input(\"player1 choose x or o\").upper()\n",
    "    if marker=='X':\n",
    "        return('X','O')\n",
    "    else:\n",
    "        return('O','X') "
   ]
  },
  {
   "cell_type": "code",
   "execution_count": 5,
   "id": "f26cd62f",
   "metadata": {},
   "outputs": [],
   "source": [
    "def place_marker(board,marker,position):\n",
    "    board[position]=marker"
   ]
  },
  {
   "cell_type": "code",
   "execution_count": 7,
   "id": "0008eb3d",
   "metadata": {},
   "outputs": [],
   "source": [
    "def win_check(board,mark):\n",
    "    return((board[1]==board[2]==board[3]==mark) or (board[4]==board[5]==board[6]==mark) or (board[4]==board[5]==board[6]==mark) \n",
    "           or (board[1]==board[5]==board[9]==mark) or (board[3]==board[5]==board[7]==mark)\n",
    "          or (board[1]==board[4]==board[7]==mark) or (board[2]==board[5]==board[8]==mark) or (board[3]==board[6]==board[9]==mark))"
   ]
  },
  {
   "cell_type": "code",
   "execution_count": 11,
   "id": "fc81c074",
   "metadata": {},
   "outputs": [],
   "source": [
    "import random\n",
    "def choose_first():\n",
    "    flip=random.randint(0,1)\n",
    "    if flip==0:\n",
    "       return 'player 1' \n",
    "    else:\n",
    "        return 'player 2'\n",
    "    "
   ]
  },
  {
   "cell_type": "code",
   "execution_count": 12,
   "id": "a8136eeb",
   "metadata": {},
   "outputs": [],
   "source": [
    "def space_check(board,position):\n",
    "    return (board[position]==' ')"
   ]
  },
  {
   "cell_type": "code",
   "execution_count": 13,
   "id": "c4106e52",
   "metadata": {},
   "outputs": [],
   "source": [
    "def full_check(board):\n",
    "    for i in range(1,10):\n",
    "        if space_check(board,i):\n",
    "            return False\n",
    "    return True"
   ]
  },
  {
   "cell_type": "code",
   "execution_count": 14,
   "id": "79976e46",
   "metadata": {},
   "outputs": [],
   "source": [
    "def player_choice(board):\n",
    "    position =0\n",
    "    while position not in [1,2,3,4,5,6,7,8,9] or not space_check(board,position):\n",
    "        position = int(input('choose the position:(1-9)'))\n",
    "    return position"
   ]
  },
  {
   "cell_type": "code",
   "execution_count": 15,
   "id": "0acb4a93",
   "metadata": {},
   "outputs": [],
   "source": [
    "def replay():\n",
    "    choice=input('play again? Enter Y or N')\n",
    "    return choice=='Y'"
   ]
  },
  {
   "cell_type": "code",
   "execution_count": null,
   "id": "1e7e72fd",
   "metadata": {},
   "outputs": [
    {
     "name": "stdout",
     "output_type": "stream",
     "text": [
      "welcome to Tic Tac Toe game\n",
      "player1 choose x or ox\n",
      "player 1will go first\n",
      "Ready to play? Y or Ny\n",
      " | | \n",
      " | | \n",
      " | | \n",
      "choose the position:(1-9)1\n",
      "O| | \n",
      " | | \n",
      " | | \n",
      "choose the position:(1-9)3\n",
      "O| |X\n",
      " | | \n",
      " | | \n",
      "choose the position:(1-9)5\n",
      "O| |X\n",
      " |O| \n",
      " | | \n",
      "choose the position:(1-9)9\n",
      "O| |X\n",
      " |O| \n",
      " | |X\n",
      "choose the position:(1-9)6\n",
      "O| |X\n",
      " |O|O\n",
      " | |X\n",
      "choose the position:(1-9)4\n",
      "O| |X\n",
      "X|O|O\n",
      " | |X\n",
      "choose the position:(1-9)2\n",
      "O|O|X\n",
      "X|O|O\n",
      " | |X\n",
      "choose the position:(1-9)8\n",
      "O|O|X\n",
      "X|O|O\n",
      " |X|X\n",
      "choose the position:(1-9)6\n",
      "choose the position:(1-9)7\n",
      "O|O|X\n",
      "X|O|O\n",
      "O|X|X\n",
      "Game Tie!!!\n",
      "player1 choose x or ox\n",
      "player 2will go first\n",
      "Ready to play? Y or Ny\n",
      " | | \n",
      " | | \n",
      " | | \n",
      "choose the position:(1-9)1\n",
      "O| | \n",
      " | | \n",
      " | | \n",
      "choose the position:(1-9)8\n",
      "O| | \n",
      " | | \n",
      " |X| \n",
      "choose the position:(1-9)9\n",
      "O| | \n",
      " | | \n",
      " |X|O\n",
      "choose the position:(1-9)5\n",
      "O| | \n",
      " |X| \n",
      " |X|O\n",
      "choose the position:(1-9)2\n",
      "O|O| \n",
      " |X| \n",
      " |X|O\n",
      "choose the position:(1-9)7\n",
      "O|O| \n",
      " |X| \n",
      "X|X|O\n",
      "choose the position:(1-9)3\n",
      "O|O|O\n",
      " |X| \n",
      "X|X|O\n",
      "player2 won the match\n",
      "O|O|O\n",
      " |X| \n",
      "X|X|O\n",
      "choose the position:(1-9)4\n",
      "O|O|O\n",
      "O|X| \n",
      "X|X|O\n",
      "player2 won the match\n",
      "O|O|O\n",
      "O|X| \n",
      "X|X|O\n"
     ]
    }
   ],
   "source": [
    "print('welcome to Tic Tac Toe game')\n",
    "while True:\n",
    "    a_board=[' ']*10\n",
    "    player1_marker,player2_marker=player_input()\n",
    "    turn=choose_first()\n",
    "    print(turn + 'will go first')\n",
    "    play_game=input('Ready to play? Y or N').upper()\n",
    "    if play_game=='Y':\n",
    "        game_on=True\n",
    "    else:\n",
    "        game_on =False\n",
    "    while game_on== True:\n",
    "        if turn=='player1':\n",
    "            display_board(a_board)\n",
    "            position=player_choice(a_board)\n",
    "            place_marker(a_board,player1_marker,position)\n",
    "            if win_check(a_board,player1_marker):\n",
    "                display_board(a_board)\n",
    "                print('player1 won the match')\n",
    "            else:\n",
    "                if full_check(a_board):\n",
    "                    display_board(a_board)\n",
    "                    print('Game Tie!!!')\n",
    "                    game_on=False\n",
    "                else:\n",
    "                    turn='player2'\n",
    "        else:\n",
    "            display_board(a_board)\n",
    "            position=player_choice(a_board)\n",
    "            place_marker(a_board,player2_marker,position)\n",
    "            if win_check(a_board,player2_marker):\n",
    "                display_board(a_board)\n",
    "                print('player2 won the match')\n",
    "            else:\n",
    "                if full_check(a_board):\n",
    "                    display_board(a_board)\n",
    "                    print('Game Tie!!!')\n",
    "                    game_on = False\n",
    "                else:\n",
    "                    turn = 'player1'\n",
    "            \n",
    "                    "
   ]
  },
  {
   "cell_type": "code",
   "execution_count": null,
   "id": "3843d671",
   "metadata": {},
   "outputs": [],
   "source": []
  }
 ],
 "metadata": {
  "kernelspec": {
   "display_name": "Python 3 (ipykernel)",
   "language": "python",
   "name": "python3"
  },
  "language_info": {
   "codemirror_mode": {
    "name": "ipython",
    "version": 3
   },
   "file_extension": ".py",
   "mimetype": "text/x-python",
   "name": "python",
   "nbconvert_exporter": "python",
   "pygments_lexer": "ipython3",
   "version": "3.9.12"
  }
 },
 "nbformat": 4,
 "nbformat_minor": 5
}
